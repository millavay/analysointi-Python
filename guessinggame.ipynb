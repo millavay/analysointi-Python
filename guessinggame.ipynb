{
 "cells": [
  {
   "cell_type": "code",
   "execution_count": 4,
   "metadata": {},
   "outputs": [
    {
     "name": "stdout",
     "output_type": "stream",
     "text": [
      "Guess again my name!\n",
      "Congratulations!\n",
      "Guesses  2\n"
     ]
    }
   ],
   "source": [
    "nimi = \"Milla\"\n",
    "arvaus_maara = 0\n",
    "\n",
    "while True:\n",
    "    arvaus = input(\"Guess my name: \")\n",
    "    arvaus_maara += 1\n",
    "    if arvaus == nimi:\n",
    "        print(\"Congratulations!\")\n",
    "        print(\"Guesses \",arvaus_maara)\n",
    "\n",
    "        break\n",
    "    else:\n",
    "        valinta = input(\"WDo you want to quit (y/n?): \").strip().lower()\n",
    "        if valinta == \"y\":\n",
    "            break\n",
    "        elif valinta == \"n\":\n",
    "            print(\"Guess again my name!\")\n",
    "        \n",
    "\n"
   ]
  }
 ],
 "metadata": {
  "kernelspec": {
   "display_name": "Python 3",
   "language": "python",
   "name": "python3"
  },
  "language_info": {
   "codemirror_mode": {
    "name": "ipython",
    "version": 3
   },
   "file_extension": ".py",
   "mimetype": "text/x-python",
   "name": "python",
   "nbconvert_exporter": "python",
   "pygments_lexer": "ipython3",
   "version": "3.13.0"
  }
 },
 "nbformat": 4,
 "nbformat_minor": 2
}
