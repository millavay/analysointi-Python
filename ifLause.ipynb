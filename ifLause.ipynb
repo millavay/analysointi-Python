{
 "cells": [
  {
   "cell_type": "code",
   "execution_count": 1,
   "metadata": {},
   "outputs": [
    {
     "name": "stdout",
     "output_type": "stream",
     "text": [
      "number 1 and number 2 are equal\n"
     ]
    }
   ],
   "source": [
    "num1 = 5\n",
    "num2 = 5\n",
    "\n",
    "if num1 == num2:\n",
    "    print(\"number 1 and number 2 are equal\")\n",
    "elif num1 > num2:\n",
    "    print(\"Num1 on isompi\")\n",
    "elif num1 < num2:\n",
    "    print(\"num1 on pienempi\")\n",
    "elif num1 >= num2:\n",
    "    print(\"number1 is greater or equal to number2\")\n",
    "elif num1 != num2:\n",
    "    print(\"NOT equal\")\n",
    "\n",
    "\n"
   ]
  }
 ],
 "metadata": {
  "kernelspec": {
   "display_name": "Python 3",
   "language": "python",
   "name": "python3"
  },
  "language_info": {
   "codemirror_mode": {
    "name": "ipython",
    "version": 3
   },
   "file_extension": ".py",
   "mimetype": "text/x-python",
   "name": "python",
   "nbconvert_exporter": "python",
   "pygments_lexer": "ipython3",
   "version": "3.13.0"
  }
 },
 "nbformat": 4,
 "nbformat_minor": 2
}
