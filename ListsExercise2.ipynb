{
 "cells": [
  {
   "cell_type": "code",
   "execution_count": 2,
   "metadata": {},
   "outputs": [
    {
     "name": "stdout",
     "output_type": "stream",
     "text": [
      "[4, 1, 1, 2, 1]\n",
      "Listan numeroiden summa on  9\n",
      "Suurin luku on  4\n"
     ]
    }
   ],
   "source": [
    "import random\n",
    "\n",
    "thrownDiceNumber = [0] * 5\n",
    "\n",
    "for i in range(5):\n",
    "    thrownDiceNumber[i] = random.randint(1, 5)\n",
    "\n",
    "print(thrownDiceNumber)\n",
    "\n",
    "sumValues = sum(thrownDiceNumber)\n",
    "print(\"Listan numeroiden summa on \", sumValues)\n",
    "\n",
    "suurinLuku = max(thrownDiceNumber)\n",
    "print(\"Suurin luku on \", suurinLuku)\n",
    "\n"
   ]
  }
 ],
 "metadata": {
  "kernelspec": {
   "display_name": "Python 3",
   "language": "python",
   "name": "python3"
  },
  "language_info": {
   "codemirror_mode": {
    "name": "ipython",
    "version": 3
   },
   "file_extension": ".py",
   "mimetype": "text/x-python",
   "name": "python",
   "nbconvert_exporter": "python",
   "pygments_lexer": "ipython3",
   "version": "3.13.0"
  }
 },
 "nbformat": 4,
 "nbformat_minor": 2
}
