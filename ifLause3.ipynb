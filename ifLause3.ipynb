{
 "cells": [
  {
   "cell_type": "code",
   "execution_count": 3,
   "metadata": {},
   "outputs": [
    {
     "name": "stdout",
     "output_type": "stream",
     "text": [
      "nimi 1 ja nimi 2 ei ole samat\n",
      "nimi 1 ja nimi 3 ovat samat\n"
     ]
    }
   ],
   "source": [
    "nimi1 = \"Emma\"\n",
    "nimi2 = \"Jonna\"\n",
    "nimi3 = \"Emma\"\n",
    "\n",
    "if nimi1 == nimi2:\n",
    "    print(\"Nimi 1 ja nimi2 ovat samat\")\n",
    "elif nimi1 != nimi2:\n",
    "    print(\"nimi 1 ja nimi 2 ei ole samat\")\n",
    "if nimi1 == nimi2:\n",
    "    print(\"nimi 1 ja nimi 2 ovat samat\")\n",
    "elif nimi1 == nimi3:\n",
    "    print(\"nimi 1 ja nimi 3 ovat samat\")\n",
    "else:\n",
    "    print(\"mitkään nimistä ei ole samat\")\n",
    "\n",
    "\n",
    "#Test, if name1 and name2 are equal. If not, test if name1 and name3 are equal.\n"
   ]
  },
  {
   "cell_type": "markdown",
   "metadata": {},
   "source": []
  }
 ],
 "metadata": {
  "kernelspec": {
   "display_name": "Python 3",
   "language": "python",
   "name": "python3"
  },
  "language_info": {
   "codemirror_mode": {
    "name": "ipython",
    "version": 3
   },
   "file_extension": ".py",
   "mimetype": "text/x-python",
   "name": "python",
   "nbconvert_exporter": "python",
   "pygments_lexer": "ipython3",
   "version": "3.13.0"
  }
 },
 "nbformat": 4,
 "nbformat_minor": 2
}
