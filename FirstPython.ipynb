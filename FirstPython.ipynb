{
 "cells": [
  {
   "cell_type": "code",
   "execution_count": 15,
   "metadata": {},
   "outputs": [
    {
     "name": "stdout",
     "output_type": "stream",
     "text": [
      "Printer app\n",
      "This app is made by:  Milla\n",
      "The value of number1 is 9\n",
      "The value of number2 is 10\n",
      "9 * 10 = 90\n",
      "9 + 10 = 19\n",
      "9 - 10 = -1\n"
     ]
    }
   ],
   "source": [
    "creator = \"Milla\"\n",
    "number1 = 9\n",
    "number2 = 10\n",
    "multiplication = number1 * number2\n",
    "addition = number1 + number2\n",
    "substraction = number1 - number2\n",
    "\n",
    "print(\"Printer app\")\n",
    "print(\"This app is made by: \" , creator)\n",
    "#print(number1)\n",
    "print(\"The value of number1 is\", number1)\n",
    "print(\"The value of number2 is\", number2)\n",
    "print(number1 , \"*\" , number2 , \"=\" , multiplication)\n",
    "print(number1 , \"+\" , number2 , \"=\" , addition)\n",
    "print(number1 , \"-\" , number2 , \"=\" , substraction)\n",
    "\n",
    "\n",
    "\n",
    "\n"
   ]
  }
 ],
 "metadata": {
  "kernelspec": {
   "display_name": "Python 3",
   "language": "python",
   "name": "python3"
  },
  "language_info": {
   "codemirror_mode": {
    "name": "ipython",
    "version": 3
   },
   "file_extension": ".py",
   "mimetype": "text/x-python",
   "name": "python",
   "nbconvert_exporter": "python",
   "pygments_lexer": "ipython3",
   "version": "3.13.0"
  }
 },
 "nbformat": 4,
 "nbformat_minor": 2
}
