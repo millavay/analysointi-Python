{
 "cells": [
  {
   "cell_type": "code",
   "execution_count": 9,
   "metadata": {},
   "outputs": [
    {
     "name": "stdout",
     "output_type": "stream",
     "text": [
      "numero 1 on suurempi kuin numero 2\n",
      "numero 3 on kaikista suurin numero\n"
     ]
    }
   ],
   "source": [
    "num1 = 13\n",
    "num2 = 4\n",
    "num3 = 22\n",
    "\n",
    "if num1 == num2 == num3:\n",
    "    print(\"All numbers are equal\")\n",
    "elif num1 == num2 or num2 == num3:\n",
    "    print(\"kaksi luvuista ovat samat\")\n",
    "if num1 > num2 and num1 > num3:\n",
    "    print(\"num1 on suurin kaikista numeroista\")\n",
    "if num1 > num2:\n",
    "    print(\"numero 1 on suurempi kuin numero 2\")\n",
    "elif num2 > num3:\n",
    "    print(\"numero 2 on suurempi kuin numero 3\")\n",
    "if num3 > num1 and num3 > num2:\n",
    "    print(\"numero 3 on kaikista suurin numero\")"
   ]
  }
 ],
 "metadata": {
  "kernelspec": {
   "display_name": "Python 3",
   "language": "python",
   "name": "python3"
  },
  "language_info": {
   "codemirror_mode": {
    "name": "ipython",
    "version": 3
   },
   "file_extension": ".py",
   "mimetype": "text/x-python",
   "name": "python",
   "nbconvert_exporter": "python",
   "pygments_lexer": "ipython3",
   "version": "3.13.0"
  }
 },
 "nbformat": 4,
 "nbformat_minor": 2
}
