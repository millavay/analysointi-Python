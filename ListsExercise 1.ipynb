{
 "cells": [
  {
   "cell_type": "code",
   "execution_count": 3,
   "metadata": {},
   "outputs": [
    {
     "name": "stdout",
     "output_type": "stream",
     "text": [
      "['table', 'chair', 'shelf', 'sofa', 'bed']\n",
      "['table', 'chair']\n",
      "sofa\n"
     ]
    }
   ],
   "source": [
    "furniture = [\"table\", \"chair\", \"shelf\", \"sofa\", \"bed\"]\n",
    "print(furniture)\n",
    "print(furniture[:2])\n",
    "\n",
    "for huonekalu in furniture:\n",
    "    if huonekalu == \"sofa\":\n",
    "        print(huonekalu)\n",
    "        break"
   ]
  }
 ],
 "metadata": {
  "kernelspec": {
   "display_name": "Python 3",
   "language": "python",
   "name": "python3"
  },
  "language_info": {
   "codemirror_mode": {
    "name": "ipython",
    "version": 3
   },
   "file_extension": ".py",
   "mimetype": "text/x-python",
   "name": "python",
   "nbconvert_exporter": "python",
   "pygments_lexer": "ipython3",
   "version": "3.13.0"
  }
 },
 "nbformat": 4,
 "nbformat_minor": 2
}
